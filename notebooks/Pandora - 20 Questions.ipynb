{
 "cells": [
  {
   "cell_type": "code",
   "execution_count": 29,
   "id": "57e97925",
   "metadata": {},
   "outputs": [],
   "source": [
    "import os\n",
    "os.environ[\"CUDA_VISIBLE_DEVICES\"] = \"-1\"  # Disable GPU"
   ]
  },
  {
   "cell_type": "code",
   "execution_count": 30,
   "id": "bfd56715",
   "metadata": {},
   "outputs": [],
   "source": [
    "import math\n",
    "from IPython.display import Image\n",
    "from IPython.core.display import HTML\n",
    "import requests\n",
    "import re\n",
    "import random\n",
    "from collections import defaultdict\n",
    "import matplotlib.pyplot as plt\n",
    "import numpy as np\n",
    "import tensorflow as tf\n",
    "from tensorflow.keras.preprocessing.text import Tokenizer\n",
    "from tensorflow.keras.preprocessing.sequence import pad_sequences\n",
    "from tensorflow.keras.models import Sequential\n",
    "from tensorflow.keras.layers import Embedding, GRU, SimpleRNN, LSTM, Dense"
   ]
  },
  {
   "attachments": {},
   "cell_type": "markdown",
   "id": "fd9c16c0",
   "metadata": {},
   "source": [
    "# Information Theory\n",
    "\n",
    "Entropy\n",
    "\n",
    "![Entropy](https://wikimedia.org/api/rest_v1/media/math/render/svg/ff26f81edc1f4bb204793a52b2430c77f6633203)\n",
    "\n",
    "[1948 - A Mathematical Theory of Communication](https://people.math.harvard.edu/~ctm/home/text/others/shannon/entropy/entropy.pdf)\n",
    "\n",
    "[1900s - 20 Questions](https://en.wikipedia.org/wiki/Twenty_questions)\n",
    "\n",
    "[2007 - Akinator](https://en.akinator.com/)\n",
    "\n",
    "[2011 - IBM Watson](https://en.wikipedia.org/wiki/IBM_Watson)\n",
    "symbolic + statistical AI hybrid\n",
    "\n",
    "# Reinforcement Learning\n",
    "[1989 PhD Thesis - Learning from Delayed Rewards - Q Learning](https://www.cs.rhul.ac.uk/~chrisw/new_thesis.pdf)\n",
    "\n",
    "![QLearning](https://wikimedia.org/api/rest_v1/media/math/render/svg/a3a4d2ac903b1be02cc81e60de2e9f91d7025fec)\n",
    "[2015 - Human-level control through deep reinforcement learning - Deep Q-Learning](https://www.nature.com/articles/nature14236)\n",
    "\n",
    "[2017 - Deep Reinforcement Learning from Human Preferences](https://proceedings.neurips.cc/paper_files/paper/2017/file/d5e2c0adad503c91f91df240d0cd4e49-Paper.pdf)\n",
    "\n",
    "# Natural Language Processing\n",
    "[N-Grams]()\n",
    "\n",
    "[RNN - LSTM - GRU]()\n",
    "\n",
    "[Google NGrams]()\n",
    "\n",
    "\n",
    "\n",
    "# Historical Chatbots \n",
    "- [ELIZA (1966): Pattern-matching, therapist parody.](https://psych.fullerton.edu/mbirnbaum/psych101/eliza.htm)\n",
    "- PARRY (1972): Simulated paranoia, added some “beliefs.”\n",
    "- SHRDLU (1970s): Natural language in a limited blocks world → symbol grounding.\n",
    "- Dr. Sbaitso (1990s): SoundBlaster-era pseudo-psych chatbot.\n",
    "- [A.L.I.C.E. (1995): AIML-based, inspired later systems like Cleverbot.](https://www.pandorabots.com/pandora/talk?botid=b8d616e35e36e881)\n",
    "- [Cleverbot/Jabberwacky (1997–): Learned from conversations with users.](https://www.cleverbot.com/)\n",
    "- Racter (1980s): Generated surreal prose (“The Policeman’s Beard is Half Constructed”).\n",
    "- Talespin (1970s): Generated simple narratives via planning.\n",
    "- Cyc (ongoing): Knowledge base project — “common sense AI.”\n",
    "- Eugene Goostman (2010s): Chatbot that posed as a 13-year-old boy (claimed Turing Test pass).\n",
    "- BlenderBot (Meta, 2020s): Open-domain neural conversational model.\n",
    "- Kuki (Mitsuku, 2005–): AIML-based, multiple Loebner Prize wins."
   ]
  },
  {
   "cell_type": "markdown",
   "id": "25cf1d51",
   "metadata": {},
   "source": [
    "# 20 Questions Hands On"
   ]
  },
  {
   "cell_type": "code",
   "execution_count": 4,
   "id": "ee3f247c",
   "metadata": {},
   "outputs": [],
   "source": [
    "# --- Knowledge base (entities + attributes) ---\n",
    "animals = {\n",
    "    \"dog\":     {\"mammal\": 1, \"flies\": 0, \"domestic\": 1, \"aquatic\": 0},\n",
    "    \"cat\":     {\"mammal\": 1, \"flies\": 0, \"domestic\": 1, \"aquatic\": 0},\n",
    "    \"eagle\":   {\"mammal\": 0, \"flies\": 1, \"domestic\": 0, \"aquatic\": 0},\n",
    "    \"shark\":   {\"mammal\": 0, \"flies\": 0, \"domestic\": 0, \"aquatic\": 1},\n",
    "    \"whale\":   {\"mammal\": 1, \"flies\": 0, \"domestic\": 0, \"aquatic\": 1},\n",
    "    \"parrot\":  {\"mammal\": 0, \"flies\": 1, \"domestic\": 1, \"aquatic\": 0},\n",
    "}"
   ]
  },
  {
   "cell_type": "code",
   "execution_count": 5,
   "id": "c11d6e9a",
   "metadata": {},
   "outputs": [],
   "source": [
    "questions = {\n",
    "    \"mammal\": \"Is it a mammal?\",\n",
    "    \"flies\": \"Does it fly?\",\n",
    "    \"domestic\": \"Is it commonly kept as a pet?\",\n",
    "    \"aquatic\": \"Does it live in water?\",\n",
    "}"
   ]
  },
  {
   "cell_type": "code",
   "execution_count": 6,
   "id": "b5f6e97a",
   "metadata": {},
   "outputs": [
    {
     "name": "stdout",
     "output_type": "stream",
     "text": [
      "Entropy\n"
     ]
    }
   ],
   "source": [
    "print(\"Entropy\")\n"
   ]
  },
  {
   "cell_type": "code",
   "execution_count": 7,
   "id": "edb7593c",
   "metadata": {},
   "outputs": [],
   "source": [
    "# --- Helper functions ---\n",
    "def entropy(candidates):\n",
    "    # Entropy = - sum(p log2 p)\n",
    "    total = len(candidates)\n",
    "    if total == 0:\n",
    "        return 0\n",
    "    probs = {}\n",
    "    for a in candidates:\n",
    "        probs[a] = probs.get(a, 0) + 1\n",
    "    return -sum((count/total) * math.log2(count/total) for count in probs.values())"
   ]
  },
  {
   "cell_type": "code",
   "execution_count": 8,
   "id": "decaf7b2",
   "metadata": {},
   "outputs": [],
   "source": [
    "def info_gain(candidates, attr):\n",
    "    # Split candidates by yes/no answer to attr\n",
    "    yes = [c for c in candidates if animals[c][attr] == 1]\n",
    "    no  = [c for c in candidates if animals[c][attr] == 0]\n",
    "\n",
    "    total = len(candidates)\n",
    "    weighted_entropy = (len(yes)/total)*entropy(yes) + (len(no)/total)*entropy(no)\n",
    "    return entropy(candidates) - weighted_entropy"
   ]
  },
  {
   "cell_type": "code",
   "execution_count": 9,
   "id": "dac06ab8",
   "metadata": {},
   "outputs": [
    {
     "name": "stdout",
     "output_type": "stream",
     "text": [
      "Possible animals\n",
      "dog\n",
      "cat\n",
      "eagle\n",
      "shark\n",
      "whale\n",
      "parrot\n"
     ]
    }
   ],
   "source": [
    "# Show the animal database\n",
    "print(\"Possible animals\")\n",
    "for animal in animals.keys():\n",
    "    print(animal)"
   ]
  },
  {
   "cell_type": "code",
   "execution_count": 10,
   "id": "619e3f57",
   "metadata": {},
   "outputs": [],
   "source": [
    "total=len(animals)\n",
    "probs = {}\n",
    "for a in animals:\n",
    "    probs[a] = probs.get(a, 0) + 1"
   ]
  },
  {
   "cell_type": "code",
   "execution_count": 11,
   "id": "7632ae1e",
   "metadata": {},
   "outputs": [
    {
     "data": {
      "text/plain": [
       "[-0.430827083453526,\n",
       " -0.430827083453526,\n",
       " -0.430827083453526,\n",
       " -0.430827083453526,\n",
       " -0.430827083453526,\n",
       " -0.430827083453526]"
      ]
     },
     "execution_count": 11,
     "metadata": {},
     "output_type": "execute_result"
    }
   ],
   "source": [
    "[(count/total) * math.log2(count/total) for count in probs.values()]"
   ]
  },
  {
   "cell_type": "code",
   "execution_count": 12,
   "id": "7d911cc9",
   "metadata": {},
   "outputs": [
    {
     "name": "stdout",
     "output_type": "stream",
     "text": [
      "mammal: 1.0\n",
      "flies: 0.9182958340544896\n",
      "domestic: 1.0\n",
      "aquatic: 0.9182958340544896\n"
     ]
    }
   ],
   "source": [
    "for attr in questions:\n",
    "    yes = [c for c in animals if animals[c][attr] == 1]\n",
    "    no  = [c for c in animals if animals[c][attr] == 0]\n",
    "\n",
    "    total = len(animals)\n",
    "    weighted_entropy = (len(yes)/total)*entropy(yes) + (len(no)/total)*entropy(no)\n",
    "    print(f'{attr}: {entropy(animals) - weighted_entropy}')"
   ]
  },
  {
   "cell_type": "code",
   "execution_count": 13,
   "id": "3d637b97",
   "metadata": {},
   "outputs": [
    {
     "data": {
      "text/plain": [
       "2.584962500721156"
      ]
     },
     "execution_count": 13,
     "metadata": {},
     "output_type": "execute_result"
    }
   ],
   "source": [
    "entropy(animals)"
   ]
  },
  {
   "cell_type": "code",
   "execution_count": 14,
   "id": "471a4dcb",
   "metadata": {},
   "outputs": [
    {
     "name": "stdout",
     "output_type": "stream",
     "text": [
      "Think of an animal, I'll try to guess it!\n",
      "\n",
      "\n",
      "I guess your animal is: dog\n"
     ]
    }
   ],
   "source": [
    "# --- Game loop ---\n",
    "remaining = list(animals.keys())\n",
    "asked = []\n",
    "\n",
    "print(\"Think of an animal, I'll try to guess it!\\n\")\n",
    "\n",
    "\n",
    "while len(remaining) > 1 and len(asked) < len(questions):\n",
    "    # Pick best question by info gain\n",
    "    gains = {attr: info_gain(remaining, attr) for attr in questions if attr not in asked}\n",
    "    best_attr = max(gains, key=gains.get)\n",
    "    asked.append(best_attr)\n",
    "\n",
    "    # Ask player\n",
    "    ans = input(questions[best_attr] + \" (y/n): \").strip().lower()\n",
    "    if ans.startswith('y'):\n",
    "        remaining = [c for c in remaining if animals[c][best_attr] == 1]\n",
    "    else:\n",
    "        remaining = [c for c in remaining if animals[c][best_attr] == 0]\n",
    "\n",
    "# Final guess\n",
    "if remaining:\n",
    "    print(\"\\nI guess your animal is:\", remaining[0])\n",
    "else:\n",
    "    print(\"\\nI couldn't guess!\")"
   ]
  },
  {
   "cell_type": "markdown",
   "id": "58e0eab9",
   "metadata": {},
   "source": [
    "# N-Grams"
   ]
  },
  {
   "cell_type": "code",
   "execution_count": 15,
   "id": "1a4189ae",
   "metadata": {},
   "outputs": [],
   "source": [
    "url = \"https://www.gutenberg.org/files/1342/1342-0.txt\" # Example: Pride and Prejudice\n",
    "text = requests.get(url).text\n",
    "# --- Preprocess text ---\n",
    "words = re.findall(r\"[a-zA-Z]+\", text.lower())"
   ]
  },
  {
   "cell_type": "code",
   "execution_count": 16,
   "id": "6bad66fd",
   "metadata": {},
   "outputs": [],
   "source": [
    "# --- Build n-grams ---\n",
    "def build_ngrams(words, n=2):\n",
    "    ngrams = defaultdict(list)\n",
    "    for i in range(len(words)-n):\n",
    "        prefix = tuple(words[i:i+n-1])\n",
    "        next_word = words[i+n-1]\n",
    "        ngrams[prefix].append(next_word)\n",
    "    return ngrams"
   ]
  },
  {
   "cell_type": "code",
   "execution_count": 17,
   "id": "52c786db",
   "metadata": {},
   "outputs": [],
   "source": [
    "# --- Generate text with optional seed ---\n",
    "def generate_with_seed(ngrams, n=2, length=30, seed_text=None):\n",
    "    if seed_text:\n",
    "        seed_words = seed_text.lower().split()\n",
    "        output = seed_words.copy()\n",
    "        prefix = tuple(seed_words[-(n-1):])\n",
    "    else:\n",
    "        prefix = random.choice(list(ngrams.keys()))\n",
    "        output = list(prefix)\n",
    "    \n",
    "    for _ in range(length):\n",
    "        next_words = ngrams.get(prefix)\n",
    "        if not next_words:\n",
    "            # fallback: choose random prefix\n",
    "            prefix = random.choice(list(ngrams.keys()))\n",
    "            next_words = ngrams[prefix]\n",
    "        next_word = random.choice(next_words)\n",
    "        output.append(next_word)\n",
    "        prefix = tuple(output[-(n-1):])\n",
    "    \n",
    "    return \" \".join(output)"
   ]
  },
  {
   "cell_type": "code",
   "execution_count": 18,
   "id": "1e5de079",
   "metadata": {},
   "outputs": [],
   "source": [
    "# --- Generate bigram and trigram text ---\n",
    "bi = build_ngrams(words, n=2)\n",
    "tri = build_ngrams(words, n=3)"
   ]
  },
  {
   "cell_type": "code",
   "execution_count": 19,
   "id": "6b0339de",
   "metadata": {},
   "outputs": [],
   "source": [
    "seed = \"the king said\""
   ]
  },
  {
   "cell_type": "code",
   "execution_count": 20,
   "id": "c211f43d",
   "metadata": {},
   "outputs": [
    {
     "name": "stdout",
     "output_type": "stream",
     "text": [
      "Generated bi-gram text:\n",
      " the king said elizabeth open their beauties of which i am resigned mrs bennet half an angel of two words of its own children silly as ever clouded elizabeth ventured to convince him\n",
      "Generated tri-gram text:\n",
      " the king said by the exercise a short silence it seems but a little their brother we shortly resolved on quitting the room and as miss de bourgh jane wickham and nothing could\n"
     ]
    }
   ],
   "source": [
    "generated_text_bi = generate_with_seed(bi, n=2, length=30, seed_text=seed)\n",
    "print(\"Generated bi-gram text:\\n\", generated_text_bi)\n",
    "generated_text_tri = generate_with_seed(tri, n=3, length=30, seed_text=seed)\n",
    "print(\"Generated tri-gram text:\\n\", generated_text_tri)"
   ]
  },
  {
   "cell_type": "code",
   "execution_count": 21,
   "id": "b562b252",
   "metadata": {},
   "outputs": [
    {
     "data": {
      "image/png": "[encoded data removed]",
      "text/plain": [
       "<Figure size 640x480 with 1 Axes>"
      ]
     },
     "metadata": {},
     "output_type": "display_data"
    },
    {
     "data": {
      "image/png": "[encoded data removed]",
      "text/plain": [
       "<Figure size 640x480 with 1 Axes>"
      ]
     },
     "metadata": {},
     "output_type": "display_data"
    }
   ],
   "source": [
    "# --- Plot comparison of next-word options ---\n",
    "def plot_ngram_distribution(ngrams, title, max_count=50):\n",
    "    counts = [len(v) for v in ngrams.values()]\n",
    "    counts = np.clip(counts, None, max_count)  # truncate counts at max_count\n",
    "    plt.hist(counts, bins=100, alpha=0.7)\n",
    "    plt.xlabel('Number of next-word options (truncated at {})'.format(max_count))\n",
    "    plt.ylabel('Frequency of prefix')\n",
    "    plt.title(title)\n",
    "    plt.show()\n",
    "\n",
    "\n",
    "plot_ngram_distribution(bi, 'Bigram next-word distribution')\n",
    "plot_ngram_distribution(tri, 'Trigram next-word distribution')"
   ]
  },
  {
   "cell_type": "markdown",
   "id": "0d45f967",
   "metadata": {},
   "source": [
    "# RNN - LSTM - GRU "
   ]
  },
  {
   "cell_type": "code",
   "execution_count": 31,
   "id": "788923f1",
   "metadata": {},
   "outputs": [],
   "source": [
    "url = \"https://www.gutenberg.org/files/1342/1342-0.txt\" # Example: Pride and Prejudice\n",
    "text = requests.get(url).text\n",
    "# --- Preprocess text ---\n",
    "words = re.findall(r\"[a-zA-Z]+\", text.lower())"
   ]
  },
  {
   "cell_type": "code",
   "execution_count": 32,
   "id": "a67951c5",
   "metadata": {},
   "outputs": [],
   "source": [
    "# --- Preprocess text ---\n",
    "text_string = ' '.join(words)"
   ]
  },
  {
   "cell_type": "code",
   "execution_count": 33,
   "id": "5f3ac657",
   "metadata": {},
   "outputs": [],
   "source": [
    "# --- Tokenize ---\n",
    "tokenizer = Tokenizer()\n",
    "tokenizer.fit_on_texts([text_string])\n",
    "word_index = tokenizer.word_index"
   ]
  },
  {
   "cell_type": "code",
   "execution_count": 34,
   "id": "97e91125",
   "metadata": {},
   "outputs": [],
   "source": [
    "# --- Create sequences ---\n",
    "sequence_length = 5\n",
    "words_list = text_string.split()\n",
    "sequences = []\n",
    "for i in range(sequence_length, len(words_list)):\n",
    "    seq = words_list[i-sequence_length:i+1]\n",
    "    sequences.append(seq)"
   ]
  },
  {
   "cell_type": "code",
   "execution_count": 35,
   "id": "86ac0bb5",
   "metadata": {},
   "outputs": [],
   "source": [
    "# Convert words to integers\n",
    "sequences_int = [[word_index[w] for w in seq] for seq in sequences]\n",
    "sequences_int = np.array(sequences_int)\n",
    "\n",
    "X = sequences_int[:, :-1]\n",
    "y = sequences_int[:, -1]\n",
    "y = tf.keras.utils.to_categorical(y, num_classes=len(word_index) + 1)"
   ]
  },
  {
   "cell_type": "code",
   "execution_count": 36,
   "id": "044989bf",
   "metadata": {},
   "outputs": [
    {
     "name": "stderr",
     "output_type": "stream",
     "text": [
      "2025-10-08 07:57:26.923283: E external/local_xla/xla/stream_executor/cuda/cuda_driver.cc:152] failed call to cuInit: INTERNAL: CUDA error: Failed call to cuInit: CUDA_ERROR_NO_DEVICE: no CUDA-capable device is detected\n",
      "2025-10-08 07:57:26.923316: I external/local_xla/xla/stream_executor/cuda/cuda_diagnostics.cc:137] retrieving CUDA diagnostic information for host: thinkpad\n",
      "2025-10-08 07:57:26.923324: I external/local_xla/xla/stream_executor/cuda/cuda_diagnostics.cc:144] hostname: thinkpad\n",
      "2025-10-08 07:57:26.923387: I external/local_xla/xla/stream_executor/cuda/cuda_diagnostics.cc:168] libcuda reported version is: 535.247.1\n",
      "2025-10-08 07:57:26.923410: I external/local_xla/xla/stream_executor/cuda/cuda_diagnostics.cc:172] kernel reported version is: 535.247.1\n",
      "2025-10-08 07:57:26.923416: I external/local_xla/xla/stream_executor/cuda/cuda_diagnostics.cc:259] kernel version seems to match DSO: 535.247.1\n"
     ]
    }
   ],
   "source": [
    "# --- Build SimpleRNN model ---\n",
    "rnn_model = Sequential()\n",
    "rnn_model.add(Embedding(input_dim=len(word_index) + 1, output_dim=50, input_length=sequence_length))\n",
    "rnn_model.add(SimpleRNN(100))\n",
    "rnn_model.add(Dense(len(word_index) + 1, activation='softmax'))\n",
    "rnn_model.compile(loss='categorical_crossentropy', optimizer='adam', metrics=['accuracy'])"
   ]
  },
  {
   "cell_type": "code",
   "execution_count": 37,
   "id": "4b797723",
   "metadata": {},
   "outputs": [],
   "source": [
    "# --- Build LSTM model ---\n",
    "lstm_model = Sequential()\n",
    "lstm_model.add(Embedding(input_dim=len(word_index) + 1, output_dim=50, input_length=sequence_length))\n",
    "lstm_model.add(LSTM(100))\n",
    "lstm_model.add(Dense(len(word_index) + 1, activation='softmax'))\n",
    "lstm_model.compile(loss='categorical_crossentropy', optimizer='adam', metrics=['accuracy'])"
   ]
  },
  {
   "cell_type": "code",
   "execution_count": 38,
   "id": "66aebf60",
   "metadata": {},
   "outputs": [],
   "source": [
    "# --- Build GRU model ---\n",
    "gru_model = Sequential()\n",
    "gru_model.add(Embedding(input_dim=len(word_index) + 1, output_dim=50, input_length=sequence_length))\n",
    "gru_model.add(GRU(100))\n",
    "gru_model.add(Dense(len(word_index) + 1, activation='softmax'))\n",
    "gru_model.compile(loss='categorical_crossentropy', optimizer='adam', metrics=['accuracy'])"
   ]
  },
  {
   "cell_type": "code",
   "execution_count": 39,
   "id": "93f06cde",
   "metadata": {},
   "outputs": [
    {
     "name": "stdout",
     "output_type": "stream",
     "text": [
      "Models built. Starting training...\n",
      "Epoch 1/3\n",
      "Epoch 1/3\n",
      "\u001b[1m503/503\u001b[0m \u001b[32m━━━━━━━━━━━━━━━━━━━━\u001b[0m\u001b[37m\u001b[0m \u001b[1m12s\u001b[0m 21ms/step - accuracy: 0.0412 - loss: 6.4919\n",
      "Epoch 2/3\n",
      "\u001b[1m503/503\u001b[0m \u001b[32m━━━━━━━━━━━━━━━━━━━━\u001b[0m\u001b[37m\u001b[0m \u001b[1m12s\u001b[0m 21ms/step - accuracy: 0.0412 - loss: 6.4919\n",
      "Epoch 2/3\n",
      "\u001b[1m503/503\u001b[0m \u001b[32m━━━━━━━━━━━━━━━━━━━━\u001b[0m\u001b[37m\u001b[0m \u001b[1m13s\u001b[0m 26ms/step - accuracy: 0.0816 - loss: 5.8650\n",
      "Epoch 3/3\n",
      "\u001b[1m503/503\u001b[0m \u001b[32m━━━━━━━━━━━━━━━━━━━━\u001b[0m\u001b[37m\u001b[0m \u001b[1m13s\u001b[0m 26ms/step - accuracy: 0.0816 - loss: 5.8650\n",
      "Epoch 3/3\n",
      "\u001b[1m503/503\u001b[0m \u001b[32m━━━━━━━━━━━━━━━━━━━━\u001b[0m\u001b[37m\u001b[0m \u001b[1m18s\u001b[0m 36ms/step - accuracy: 0.1100 - loss: 5.4908\n",
      "\u001b[1m503/503\u001b[0m \u001b[32m━━━━━━━━━━━━━━━━━━━━\u001b[0m\u001b[37m\u001b[0m \u001b[1m18s\u001b[0m 36ms/step - accuracy: 0.1100 - loss: 5.4908\n",
      "Epoch 1/3\n",
      "Epoch 1/3\n",
      "\u001b[1m503/503\u001b[0m \u001b[32m━━━━━━━━━━━━━━━━━━━━\u001b[0m\u001b[37m\u001b[0m \u001b[1m23s\u001b[0m 41ms/step - accuracy: 0.0342 - loss: 6.5981\n",
      "Epoch 2/3\n",
      "\u001b[1m503/503\u001b[0m \u001b[32m━━━━━━━━━━━━━━━━━━━━\u001b[0m\u001b[37m\u001b[0m \u001b[1m23s\u001b[0m 41ms/step - accuracy: 0.0342 - loss: 6.5981\n",
      "Epoch 2/3\n",
      "\u001b[1m503/503\u001b[0m \u001b[32m━━━━━━━━━━━━━━━━━━━━\u001b[0m\u001b[37m\u001b[0m \u001b[1m19s\u001b[0m 38ms/step - accuracy: 0.0460 - loss: 6.2486\n",
      "Epoch 3/3\n",
      "\u001b[1m503/503\u001b[0m \u001b[32m━━━━━━━━━━━━━━━━━━━━\u001b[0m\u001b[37m\u001b[0m \u001b[1m19s\u001b[0m 38ms/step - accuracy: 0.0460 - loss: 6.2486\n",
      "Epoch 3/3\n",
      "\u001b[1m503/503\u001b[0m \u001b[32m━━━━━━━━━━━━━━━━━━━━\u001b[0m\u001b[37m\u001b[0m \u001b[1m20s\u001b[0m 40ms/step - accuracy: 0.0685 - loss: 5.9790\n",
      "\u001b[1m503/503\u001b[0m \u001b[32m━━━━━━━━━━━━━━━━━━━━\u001b[0m\u001b[37m\u001b[0m \u001b[1m20s\u001b[0m 40ms/step - accuracy: 0.0685 - loss: 5.9790\n",
      "Epoch 1/3\n",
      "Epoch 1/3\n",
      "\u001b[1m503/503\u001b[0m \u001b[32m━━━━━━━━━━━━━━━━━━━━\u001b[0m\u001b[37m\u001b[0m \u001b[1m23s\u001b[0m 42ms/step - accuracy: 0.0431 - loss: 6.5204\n",
      "Epoch 2/3\n",
      "\u001b[1m503/503\u001b[0m \u001b[32m━━━━━━━━━━━━━━━━━━━━\u001b[0m\u001b[37m\u001b[0m \u001b[1m23s\u001b[0m 42ms/step - accuracy: 0.0431 - loss: 6.5204\n",
      "Epoch 2/3\n",
      "\u001b[1m503/503\u001b[0m \u001b[32m━━━━━━━━━━━━━━━━━━━━\u001b[0m\u001b[37m\u001b[0m \u001b[1m21s\u001b[0m 42ms/step - accuracy: 0.0594 - loss: 6.0751\n",
      "Epoch 3/3\n",
      "\u001b[1m503/503\u001b[0m \u001b[32m━━━━━━━━━━━━━━━━━━━━\u001b[0m\u001b[37m\u001b[0m \u001b[1m21s\u001b[0m 42ms/step - accuracy: 0.0594 - loss: 6.0751\n",
      "Epoch 3/3\n",
      "\u001b[1m503/503\u001b[0m \u001b[32m━━━━━━━━━━━━━━━━━━━━\u001b[0m\u001b[37m\u001b[0m \u001b[1m21s\u001b[0m 41ms/step - accuracy: 0.0720 - loss: 5.8831\n",
      "\u001b[1m503/503\u001b[0m \u001b[32m━━━━━━━━━━━━━━━━━━━━\u001b[0m\u001b[37m\u001b[0m \u001b[1m21s\u001b[0m 41ms/step - accuracy: 0.0720 - loss: 5.8831\n"
     ]
    },
    {
     "data": {
      "text/plain": [
       "<keras.src.callbacks.history.History at 0x70468b390150>"
      ]
     },
     "execution_count": 39,
     "metadata": {},
     "output_type": "execute_result"
    }
   ],
   "source": [
    "print(\"Models built. Starting training...\")\n",
    "# --- Train RNN ---\n",
    "rnn_model.fit(X, y, epochs=3, batch_size=256)\n",
    "\n",
    "# --- Train GRU ---\n",
    "gru_model.fit(X, y, epochs=3, batch_size=256)  # Use more epochs for better results\n",
    "\n",
    "# --- Train LSTM ---\n",
    "lstm_model.fit(X, y, epochs=3, batch_size=256)\n"
   ]
  },
  {
   "cell_type": "code",
   "execution_count": 12,
   "id": "d6a36938",
   "metadata": {},
   "outputs": [],
   "source": [
    "# --- Text generation function ---\n",
    "def generate_text(model, tokenizer, seed_text, num_words=20):\n",
    "    result = seed_text.split()\n",
    "    for _ in range(num_words):\n",
    "        token_list = tokenizer.texts_to_sequences([' '.join(result[-sequence_length:])])[0]\n",
    "        token_list = pad_sequences([token_list], maxlen=sequence_length, padding='pre')\n",
    "        predicted = np.argmax(model.predict(token_list, verbose=0), axis=-1)\n",
    "        output_word = tokenizer.index_word.get(predicted[0], '')\n",
    "        result.append(output_word)\n",
    "    return ' '.join(result)"
   ]
  },
  {
   "cell_type": "code",
   "execution_count": null,
   "id": "8427913b",
   "metadata": {},
   "outputs": [
    {
     "name": "stdout",
     "output_type": "stream",
     "text": [
      "GRU generated text:\n",
      " the king said she was not to be so much in the room and the next of the room and the next of\n",
      "\n",
      "LSTM generated text:\n",
      " the king said he was a man of the family and the whole of the man of the family and the whole of\n"
     ]
    }
   ],
   "source": [
    "# --- Generate text examples ---\n",
    "seed = \"the king said\"\n",
    "print(\"RNN generated text:\\n\", generate_text(rnn_model, tokenizer, seed, 20))\n",
    "print(\"\\nGRU generated text:\\n\", generate_text(gru_model, tokenizer, seed, 20))\n",
    "print(\"\\nLSTM generated text:\\n\", generate_text(lstm_model, tokenizer, seed, 20))"
   ]
  },
  {
   "cell_type": "code",
   "execution_count": null,
   "id": "c115d18f",
   "metadata": {},
   "outputs": [],
   "source": []
  },
  {
   "cell_type": "markdown",
   "id": "26f6726a",
   "metadata": {},
   "source": [
    "# More on Chatbots\n",
    "- ELIZA (1966): Pattern-matching, therapist parody.\n",
    "    - ELIZA was created by Joseph Weizenbaum at MIT. The most famous script, DOCTOR, mimicked a Rogerian psychotherapist by using simple pattern-matching and keyword-based responses, often just rephrasing the user's input as a question. It was a parody, and Weizenbaum was surprised by how seriously users took it, leading to the concept of the \"ELIZA effect.\"\n",
    "\n",
    "- PARRY (1972): Simulated paranoia, added some “beliefs.”\n",
    "    - Created by psychiatrist Kenneth Colby at Stanford, PARRY simulated a paranoid schizophrenic. It was more advanced than ELIZA because it had a more complex model of human behavior, including \"beliefs\" and \"emotions\" that could be triggered by certain conversation topics. It was tested in a variation of the Turing Test and often fooled psychiatrists.\n",
    "\n",
    "- SHRDLU (1970s): Natural language in a limited blocks world → symbol grounding.\n",
    "    - Terry Winograd developed SHRDLU at MIT around 1970. It operated in a \"blocks world\" where it could understand and execute commands related to a virtual table with various blocks, cones, and pyramids. This project was a major step in natural language understanding and highlighted the concept of \"symbol grounding,\" where words are connected to physical objects or concepts.\n",
    "\n",
    "- Dr. Sbaitso (1990s): SoundBlaster-era pseudo-psych chatbot.\n",
    "    - Dr. Sbaitso was a text-to-speech program distributed with Creative Labs' Sound Blaster sound cards in the early 1990s. It mimicked a psychologist, much like ELIZA's DOCTOR script, but its main purpose was to showcase the card's voice synthesis capabilities.\n",
    "\n",
    "- A.L.I.C.E. (1995): AIML-based, inspired later systems like Cleverbot.\n",
    "    - A.L.I.C.E. (Artificial Linguistic Internet Computer Entity) was created by Richard Wallace and \"came to life\" in 1995. It is based on AIML (Artificial Intelligence Markup Language), a rule-based XML format for creating chatbots. It has won the Loebner Prize multiple times. While it inspired many AIML-based systems, Cleverbot's learning from user conversations is a fundamentally different approach. Cleverbot was developed independently by Rollo Carpenter, starting as Jabberwacky in 1997.\n",
    "\n",
    "- Cleverbot/Jabberwacky (1997–): Learned from conversations with users.\n",
    "    - Rollo Carpenter's Jabberwacky, which evolved into Cleverbot, was designed to learn from its conversations with humans. It doesn't rely on pre-scripted rules like AIML but instead stores and retrieves responses from its vast database of past interactions.\n",
    "\n",
    "- Racter (1980s): Generated surreal prose (“The Policeman’s Beard is Half Constructed”).\n",
    "    - Racter was a computer program by William Chamberlain and Thomas Etter. The book The Policeman's Beard Is Half Constructed (1984) was marketed as being entirely written by the AI. The book's surreal and nonsensical style is characteristic of the program's method of combining pre-programmed text and grammar rules.\n",
    "\n",
    "- Talespin (1970s): Generated simple narratives via planning.\n",
    "    - TALE-SPIN, developed by James Meehan, was a program from the late 1970s that generated short stories. It used a planning-based approach where it would construct a narrative by selecting and arranging events from a knowledge base to achieve a character's goal.\n",
    "\n",
    "- Cyc (ongoing): Knowledge base project — “common sense AI.”\n",
    "    - Cyc is a long-term project started by Douglas Lenat in 1984. Its goal is to create a massive knowledge base of \"common sense\" information, manually entered in a formal language, to allow for human-like reasoning and to serve as a foundation for other AI systems. It is an ongoing project.\n",
    "\n",
    "- Eugene Goostman (2010s): Chatbot that posed as a 13-year-old boy (claimed Turing Test pass).\n",
    "\n",
    "    - In 2014, Eugene Goostman, a chatbot developed by a team of programmers, convinced 33% of the judges in a Turing Test competition that it was human. However, this \"pass\" was highly controversial. Critics pointed out that the bot's persona—a non-native English speaker who was 13 years old—provided an excuse for its grammatical errors and lack of general knowledge, allowing it to avoid difficult questions.\n",
    "\n",
    "- BlenderBot (Meta, 2020s): Open-domain neural conversational model.\n",
    "    - BlenderBot is a family of open-source chatbots developed by Meta AI (formerly Facebook AI) starting in 2020. They are neural conversational models, meaning they are built on large-scale deep learning architectures, unlike the rule-based systems of the past. They are designed for \"open-domain\" conversation, meaning they can discuss a wide range of topics.\n",
    "\n",
    "- Kuki (Mitsuku, 2005–): AIML-based, multiple Loebner Prize wins.\n",
    "    - Kuki, formerly known as Mitsuku, is a chatbot created by Steve Worswick. It is indeed based on AIML and has won the annual Loebner Prize—a competition styled after the Turing Test—a record five times. This makes it one of the most successful and well-known chatbots in the world."
   ]
  },
  {
   "cell_type": "code",
   "execution_count": null,
   "id": "275d4f58",
   "metadata": {},
   "outputs": [],
   "source": []
  }
 ],
 "metadata": {
  "kernelspec": {
   "display_name": "data_analysis",
   "language": "python",
   "name": "python3"
  },
  "language_info": {
   "codemirror_mode": {
    "name": "ipython",
    "version": 3
   },
   "file_extension": ".py",
   "mimetype": "text/x-python",
   "name": "python",
   "nbconvert_exporter": "python",
   "pygments_lexer": "ipython3",
   "version": "3.11.13"
  }
 },
 "nbformat": 4,
 "nbformat_minor": 5
}
